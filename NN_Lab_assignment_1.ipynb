{
  "nbformat": 4,
  "nbformat_minor": 0,
  "metadata": {
    "colab": {
      "provenance": [],
      "collapsed_sections": [
        "0BK-nU9Ud8D8",
        "OYad6HsslqGO",
        "BpLHnwzqV4AU"
      ],
      "authorship_tag": "ABX9TyMr7+Pt7hg8K/6YLjda7T99",
      "include_colab_link": true
    },
    "kernelspec": {
      "name": "python3",
      "display_name": "Python 3"
    },
    "language_info": {
      "name": "python"
    }
  },
  "cells": [
    {
      "cell_type": "markdown",
      "metadata": {
        "id": "view-in-github",
        "colab_type": "text"
      },
      "source": [
        "<a href=\"https://colab.research.google.com/github/devill543/devill543/blob/main/NN_Lab_assignment_1.ipynb\" target=\"_parent\"><img src=\"https://colab.research.google.com/assets/colab-badge.svg\" alt=\"Open In Colab\"/></a>"
      ]
    },
    {
      "cell_type": "markdown",
      "source": [
        "# 1.Write a python program to create a neuron and predict its output using the threshold activation function."
      ],
      "metadata": {
        "id": "0BK-nU9Ud8D8"
      }
    },
    {
      "cell_type": "code",
      "source": [
        "import numpy as np\n",
        "w=[] #for Weights\n",
        "x=[] #for Input values\n",
        "def neuron_output():\n",
        "  n = (int)(input(\"Enter the number of inputs: \"))\n",
        "  for i in range(n):\n",
        "    a=(float)(input(\"enter weight: \"))\n",
        "    w.append(a)\n",
        "  for i in range(n):\n",
        "    a=(float)(input(\"enter input: \"))\n",
        "    x.append(a)\n",
        "  b=(float)(input(\"enter bias: \"))\n",
        "  t=(float)(input(\"enter threshold: \"))\n",
        "  wt=np.array(w)\n",
        "  xin=np.array(x)\n",
        "  z=xin*wt\n",
        "  v=sum(z)+b\n",
        "  y=threshold_activation(v,t)\n",
        "  print(\"Neuron Output:\", y)\n",
        "def threshold_activation(weighted_sum, threshold):\n",
        "    return 1 if weighted_sum >= threshold else 0\n",
        "neuron_output()"
      ],
      "metadata": {
        "colab": {
          "base_uri": "https://localhost:8080/"
        },
        "id": "wUBhziAtd8o8",
        "outputId": "98ec28bc-10af-4dfe-ccb7-081488d03613"
      },
      "execution_count": null,
      "outputs": [
        {
          "output_type": "stream",
          "name": "stdout",
          "text": [
            "Enter the number of inputs: 3\n",
            "enter weight: 0.1\n",
            "enter weight: 0.2\n",
            "enter weight: 0.3\n",
            "enter input: 1\n",
            "enter input: 01\n",
            "enter input: 0\n",
            "enter bias: 0\n",
            "enter threshold: 0\n",
            "Neuron Output: 1\n"
          ]
        }
      ]
    },
    {
      "cell_type": "markdown",
      "source": [
        "# 2.Write a python program to train AND Gate Using Perceptron Learning Algorithm."
      ],
      "metadata": {
        "id": "OYad6HsslqGO"
      }
    },
    {
      "cell_type": "code",
      "source": [
        "#Defining the Threshold activation function\n",
        "def activation_function(v, threshold):\n",
        "  return 1 if v >= threshold else -1"
      ],
      "metadata": {
        "id": "WEomaMPOlpXJ"
      },
      "execution_count": null,
      "outputs": []
    },
    {
      "cell_type": "code",
      "source": [
        "#Defining function to train the input data\n",
        "def train(inputs, learning_rate, epochs):\n",
        "  inp = inputs.shape[1]-1 # 1 in shape[] means it refering to column\n",
        "  weights = np.zeros(inp) # initializing weights to 0\n",
        "  bias = 0 # initializing bias to 0\n",
        "  for epoch in range(epochs):\n",
        "    for i in inputs:\n",
        "      input = i[:inp] #only contain input data without target value\n",
        "      t = i[inp] #target output\n",
        "      v = np.dot(input,weights)+bias\n",
        "      y = activation_function(v,0) #passing v and threshold in threshold activation function\n",
        "      weights = weights + learning_rate*(t-y)*input\n",
        "      bias += learning_rate*(t-y)\n",
        "  return weights, bias\n",
        "\n"
      ],
      "metadata": {
        "id": "8i7P90g2Cw7M"
      },
      "execution_count": null,
      "outputs": []
    },
    {
      "cell_type": "code",
      "source": [
        "#Defining function that will predict the output of given input\n",
        "def predict(inputs, weights, bias):\n",
        "  v = np.dot(inputs, weights) + bias\n",
        "  y = activation_function(v,0)\n",
        "  return y\n"
      ],
      "metadata": {
        "id": "XZ_u1qNyOM64"
      },
      "execution_count": null,
      "outputs": []
    },
    {
      "cell_type": "code",
      "source": [
        "#passing the input data to train the preceptron\n",
        "# AND Gate training data\n",
        "import numpy as np\n",
        "training_data = np.array([[1,1,1],[1,-1,-1],[-1,1,-1],[-1,-1,-1]]) #AND Gate\n",
        "#Training the perceptron\n",
        "weights, bias = train(training_data, 1, 10)"
      ],
      "metadata": {
        "id": "N6biiC2sSRFl"
      },
      "execution_count": null,
      "outputs": []
    },
    {
      "cell_type": "code",
      "source": [
        "#Testing the perceptron\n",
        "test_data = np.array([1,-1])\n",
        "output = predict(test_data, weights, bias)\n",
        "print(output)"
      ],
      "metadata": {
        "colab": {
          "base_uri": "https://localhost:8080/"
        },
        "id": "Fvst7mJ2STwh",
        "outputId": "e9a65260-befb-4f3a-c538-7b3fe6697bde"
      },
      "execution_count": null,
      "outputs": [
        {
          "output_type": "stream",
          "name": "stdout",
          "text": [
            "-1\n"
          ]
        }
      ]
    },
    {
      "cell_type": "code",
      "source": [
        "for sample in training_data:\n",
        "    inputs = sample[:2] # uses slicing to select the first two elements (index 0 and 1) of the sample\n",
        "    print(f\"Input: {inputs}, Predicted Output: {predict(inputs, weights, bias)}\")"
      ],
      "metadata": {
        "colab": {
          "base_uri": "https://localhost:8080/"
        },
        "id": "ogN_DgaeULRo",
        "outputId": "7c44bb34-6310-4736-820c-ba77b2379446"
      },
      "execution_count": null,
      "outputs": [
        {
          "output_type": "stream",
          "name": "stdout",
          "text": [
            "Input: [1 1], Predicted Output: 1\n",
            "Input: [ 1 -1], Predicted Output: -1\n",
            "Input: [-1  1], Predicted Output: -1\n",
            "Input: [-1 -1], Predicted Output: -1\n"
          ]
        }
      ]
    },
    {
      "cell_type": "markdown",
      "source": [
        "# 3.Write a python program to implement Min-Max Scalar."
      ],
      "metadata": {
        "id": "BpLHnwzqV4AU"
      }
    },
    {
      "cell_type": "code",
      "source": [
        "#defining function for min-max Scalar\n",
        "def min_max_scalar(data):\n",
        "  min_val = min(data)\n",
        "  max_val = max(data)\n",
        "  #scaled_data = [(x - min_val) / (max_val - min_val) for x in data]\n",
        "  print(data)\n",
        "  for x in data:\n",
        "    print(f\"Normalized valued of {x} in {data} is : {(x - min_val) / (max_val - min_val)}\")\n"
      ],
      "metadata": {
        "id": "j89mBlhQWFRq"
      },
      "execution_count": null,
      "outputs": []
    },
    {
      "cell_type": "code",
      "source": [
        "#normalizing height and weight data value using min-max scalar\n",
        "heights=[5.9,5.8,5.2,5.4,6.1,5.5]\n",
        "weights=[75,86,50,55,85,62]\n",
        "#for  height in heights:\n",
        " #   print(f\"Heights: {height}, Normalized value : {predict(inputs, weights, bias)}\")\n",
        "min_max_scalar(heights)\n",
        "min_max_scalar(weights)"
      ],
      "metadata": {
        "colab": {
          "base_uri": "https://localhost:8080/"
        },
        "id": "Ttt6zWrAXIgB",
        "outputId": "1d3d7c17-7571-4eae-dc9a-9d8517f00fcc"
      },
      "execution_count": null,
      "outputs": [
        {
          "output_type": "stream",
          "name": "stdout",
          "text": [
            "[5.9, 5.8, 5.2, 5.4, 6.1, 5.5]\n",
            "Normalized valued of 5.9 in [5.9, 5.8, 5.2, 5.4, 6.1, 5.5] is : 0.7777777777777785\n",
            "Normalized valued of 5.8 in [5.9, 5.8, 5.2, 5.4, 6.1, 5.5] is : 0.6666666666666666\n",
            "Normalized valued of 5.2 in [5.9, 5.8, 5.2, 5.4, 6.1, 5.5] is : 0.0\n",
            "Normalized valued of 5.4 in [5.9, 5.8, 5.2, 5.4, 6.1, 5.5] is : 0.22222222222222254\n",
            "Normalized valued of 6.1 in [5.9, 5.8, 5.2, 5.4, 6.1, 5.5] is : 1.0\n",
            "Normalized valued of 5.5 in [5.9, 5.8, 5.2, 5.4, 6.1, 5.5] is : 0.3333333333333333\n",
            "[75, 86, 50, 55, 85, 62]\n",
            "Normalized valued of 75 in [75, 86, 50, 55, 85, 62] is : 0.6944444444444444\n",
            "Normalized valued of 86 in [75, 86, 50, 55, 85, 62] is : 1.0\n",
            "Normalized valued of 50 in [75, 86, 50, 55, 85, 62] is : 0.0\n",
            "Normalized valued of 55 in [75, 86, 50, 55, 85, 62] is : 0.1388888888888889\n",
            "Normalized valued of 85 in [75, 86, 50, 55, 85, 62] is : 0.9722222222222222\n",
            "Normalized valued of 62 in [75, 86, 50, 55, 85, 62] is : 0.3333333333333333\n"
          ]
        }
      ]
    },
    {
      "cell_type": "markdown",
      "source": [
        "# 4.Write a python program to implement Standard Scalar."
      ],
      "metadata": {
        "id": "xDP30e4rtrcJ"
      }
    },
    {
      "cell_type": "code",
      "source": [
        "# Defining Standard Scalar function\n",
        "import numpy as np\n",
        "def standard_scalar(data):\n",
        "  mean_value= np.mean(data) #Calculating mean of the given data\n",
        "  sd_value = np.std(data)#Calculating Standard deviation of given data\n",
        "  print(data)\n",
        "  for x in data:\n",
        "    print(f\"Standardized valued of {x} in {data} is : {(x - mean_value) / sd_value}\")\n"
      ],
      "metadata": {
        "id": "rL4UIZhht1qa"
      },
      "execution_count": null,
      "outputs": []
    },
    {
      "cell_type": "code",
      "source": [
        "heights=[5.9,5.8,5.2,5.4,6.1,5.5]\n",
        "weights=[75,86,50,55,85,62]\n",
        "standard_scalar(heights) #Passing the heights data in standard scalar function\n",
        "standard_scalar(weights) #Passing the weights data in standard scalar function"
      ],
      "metadata": {
        "colab": {
          "base_uri": "https://localhost:8080/"
        },
        "id": "qiVL_juKxBv2",
        "outputId": "e85791aa-7262-4f4b-cf09-8a0335236700"
      },
      "execution_count": null,
      "outputs": [
        {
          "output_type": "stream",
          "name": "stdout",
          "text": [
            "[5.9, 5.8, 5.2, 5.4, 6.1, 5.5]\n",
            "Standardized valued of 5.9 in [5.9, 5.8, 5.2, 5.4, 6.1, 5.5] is : 0.8075728530872516\n",
            "Standardized valued of 5.8 in [5.9, 5.8, 5.2, 5.4, 6.1, 5.5] is : 0.48454371185235035\n",
            "Standardized valued of 5.2 in [5.9, 5.8, 5.2, 5.4, 6.1, 5.5] is : -1.4536311355570453\n",
            "Standardized valued of 5.4 in [5.9, 5.8, 5.2, 5.4, 6.1, 5.5] is : -0.8075728530872458\n",
            "Standardized valued of 6.1 in [5.9, 5.8, 5.2, 5.4, 6.1, 5.5] is : 1.4536311355570481\n",
            "Standardized valued of 5.5 in [5.9, 5.8, 5.2, 5.4, 6.1, 5.5] is : -0.4845437118523475\n",
            "[75, 86, 50, 55, 85, 62]\n",
            "Standardized valued of 75 in [75, 86, 50, 55, 85, 62] is : 0.438461263666464\n",
            "Standardized valued of 86 in [75, 86, 50, 55, 85, 62] is : 1.2205813556120477\n",
            "Standardized valued of 50 in [75, 86, 50, 55, 85, 62] is : -1.3390843998462265\n",
            "Standardized valued of 55 in [75, 86, 50, 55, 85, 62] is : -0.9835752671436884\n",
            "Standardized valued of 85 in [75, 86, 50, 55, 85, 62] is : 1.14947952907154\n",
            "Standardized valued of 62 in [75, 86, 50, 55, 85, 62] is : -0.48586248136013505\n"
          ]
        }
      ]
    },
    {
      "cell_type": "markdown",
      "source": [
        "# 5.Write a python program to train perceptron using given training set and predict class for the input (6,82) and (5.3,52).\n",
        "![Picture1.png](data:image/png;base64,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)"
      ],
      "metadata": {
        "id": "CkvAoQJDyZIx"
      }
    },
    {
      "cell_type": "code",
      "source": [
        "#Defining the Threshold activation function\n",
        "def activation_function(v, threshold):\n",
        "  return 1 if v >= threshold else -1"
      ],
      "metadata": {
        "id": "c7Oe2UGrzNcQ"
      },
      "execution_count": null,
      "outputs": []
    },
    {
      "cell_type": "code",
      "source": [
        "#Defining function to train the input data\n",
        "def train(inputs, learning_rate, epochs):\n",
        "  inp = inputs.shape[1]-1 # 1 in shape[] means it refering to column\n",
        "  weights = np.zeros(inp) # initializing weighst to 0\n",
        "  bias = 0 # initializing weighst to 0\n",
        "  for epoch in range(epochs):\n",
        "    for i in inputs:\n",
        "      input = i[:inp] #only contain input data without target value\n",
        "      t = i[inp] #target output\n",
        "      v = np.dot(input,weights)+bias\n",
        "      y = activation_function(v,0) #passing v and threshold in threshold activation function\n",
        "      weights = weights + learning_rate*(t-y)*input\n",
        "      bias += learning_rate*(t-y)\n",
        "  return weights, bias"
      ],
      "metadata": {
        "id": "j733cSYl0bk4"
      },
      "execution_count": null,
      "outputs": []
    },
    {
      "cell_type": "code",
      "source": [
        "#Defining function which will predict the output of given input\n",
        "def predict(inputs, weights, bias):\n",
        "  v = np.dot(inputs, weights) + bias\n",
        "  y = activation_function(v,0)\n",
        "  return y"
      ],
      "metadata": {
        "id": "GlrRMlSq0iAn"
      },
      "execution_count": null,
      "outputs": []
    },
    {
      "cell_type": "code",
      "source": [
        "def min_max_scalar(data, min_vals=None, max_vals=None):\n",
        "    if min_vals is None or max_vals is None:\n",
        "        min_vals = np.min(data, axis=0)\n",
        "        max_vals = np.max(data, axis=0)\n",
        "    return (data - min_vals) / (max_vals - min_vals), min_vals, max_vals"
      ],
      "metadata": {
        "id": "_9BTsfdW4uj0"
      },
      "execution_count": null,
      "outputs": []
    },
    {
      "cell_type": "code",
      "source": [
        "#passing the input data to train the preceptron\n",
        "\n",
        "import numpy as np\n",
        "raw_training_data = np.array([[5.9, 75, 1],  #Labels are encoded: Male = 1, Female = -1.\n",
        "    [5.8, 86, 1],  # Male\n",
        "    [5.2, 50, -1],  # Female\n",
        "    [5.4, 55, -1],  # Female\n",
        "    [6.1, 85, 1],  # Male\n",
        "    [5.5, 62, -1]])  # Female\n",
        "features= raw_training_data[:, :-1]\n",
        "labels = raw_training_data[:, -1]\n",
        "scaled_features, min_vals, max_vals = min_max_scalar(features)\n",
        "scaled_training_data = np.column_stack((scaled_features, labels))\n",
        "weights, bias = train(scaled_training_data, 1, 10)"
      ],
      "metadata": {
        "id": "BGFl0a4Z0pDL"
      },
      "execution_count": null,
      "outputs": []
    },
    {
      "cell_type": "code",
      "source": [
        "print(scaled_features)"
      ],
      "metadata": {
        "colab": {
          "base_uri": "https://localhost:8080/"
        },
        "id": "ync4teAG72qF",
        "outputId": "783bc4b8-4a7c-4dff-b804-90e11faeadf2"
      },
      "execution_count": null,
      "outputs": [
        {
          "output_type": "stream",
          "name": "stdout",
          "text": [
            "[[0.77777778 0.69444444]\n",
            " [0.66666667 1.        ]\n",
            " [0.         0.        ]\n",
            " [0.22222222 0.13888889]\n",
            " [1.         0.97222222]\n",
            " [0.33333333 0.33333333]]\n"
          ]
        }
      ]
    },
    {
      "cell_type": "code",
      "source": [
        "print(scaled_training_data)"
      ],
      "metadata": {
        "colab": {
          "base_uri": "https://localhost:8080/"
        },
        "id": "cmBgMoavt9Pf",
        "outputId": "9ce7022f-b39b-4ba1-9ba3-0c7c280642d9"
      },
      "execution_count": null,
      "outputs": [
        {
          "output_type": "stream",
          "name": "stdout",
          "text": [
            "[[ 0.77777778  0.69444444  1.        ]\n",
            " [ 0.66666667  1.          1.        ]\n",
            " [ 0.          0.         -1.        ]\n",
            " [ 0.22222222  0.13888889 -1.        ]\n",
            " [ 1.          0.97222222  1.        ]\n",
            " [ 0.33333333  0.33333333 -1.        ]]\n"
          ]
        }
      ]
    },
    {
      "cell_type": "code",
      "source": [
        "print(min_vals)"
      ],
      "metadata": {
        "colab": {
          "base_uri": "https://localhost:8080/"
        },
        "id": "HWDJolq1-Ls-",
        "outputId": "4267059d-c011-4bd1-9a9e-9c6b1fdb16b5"
      },
      "execution_count": null,
      "outputs": [
        {
          "output_type": "stream",
          "name": "stdout",
          "text": [
            "[ 5.2 50. ]\n"
          ]
        }
      ]
    },
    {
      "cell_type": "code",
      "source": [
        "test_samples = np.array([[6, 82], [5.3, 52]])\n",
        "scaled_test_samples, _, _ = min_max_scalar(test_samples, min_vals, max_vals)"
      ],
      "metadata": {
        "id": "1hYYVgMI_POj"
      },
      "execution_count": null,
      "outputs": []
    },
    {
      "cell_type": "code",
      "source": [
        "print(scaled_test_samples)"
      ],
      "metadata": {
        "colab": {
          "base_uri": "https://localhost:8080/"
        },
        "id": "HwwhX9Av_eJJ",
        "outputId": "de492e67-e9f4-407a-a2b2-ad2727fa4267"
      },
      "execution_count": null,
      "outputs": [
        {
          "output_type": "stream",
          "name": "stdout",
          "text": [
            "[[0.88888889 0.88888889]\n",
            " [0.11111111 0.05555556]]\n"
          ]
        }
      ]
    },
    {
      "cell_type": "code",
      "source": [
        "for sample in scaled_test_samples:\n",
        "    prediction = predict(sample, weights, bias)\n",
        "    predicted_class = \"Male\" if prediction == 1 else \"Female\"\n",
        "    print(f\"Input: {sample}, Predicted Class: {predicted_class}\")"
      ],
      "metadata": {
        "colab": {
          "base_uri": "https://localhost:8080/"
        },
        "id": "ciCFENsA_4iQ",
        "outputId": "c6f776f7-964f-4440-ba49-f5214aa10dbe"
      },
      "execution_count": null,
      "outputs": [
        {
          "output_type": "stream",
          "name": "stdout",
          "text": [
            "Input: [0.88888889 0.88888889], Predicted Class: Male\n",
            "Input: [0.11111111 0.05555556], Predicted Class: Female\n"
          ]
        }
      ]
    }
  ]
}